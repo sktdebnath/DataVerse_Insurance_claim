{
  "nbformat": 4,
  "nbformat_minor": 0,
  "metadata": {
    "colab": {
      "provenance": [],
      "collapsed_sections": []
    },
    "kernelspec": {
      "name": "python3",
      "display_name": "Python 3"
    },
    "language_info": {
      "name": "python"
    }
  },
  "cells": [
    {
      "cell_type": "code",
      "execution_count": 1,
      "metadata": {
        "id": "Ytpv9QOnfKpn"
      },
      "outputs": [],
      "source": [
        "from google.colab import files\n",
        "import pandas as pd\n",
        "import numpy as np\n",
        "import matplotlib.pyplot as plt\n",
        "import seaborn as sns\n",
        "\n",
        "from sklearn.preprocessing import MinMaxScaler\n",
        "from sklearn.preprocessing import StandardScaler\n",
        "\n",
        "from sklearn.linear_model import LogisticRegression\n",
        "from sklearn.svm import SVC\n",
        "from sklearn.naive_bayes import GaussianNB\n",
        "from sklearn.naive_bayes import MultinomialNB\n",
        "from sklearn.linear_model import SGDClassifier\n",
        "from sklearn.neighbors import KNeighborsClassifier\n",
        "from sklearn.tree import DecisionTreeClassifier\n",
        "from sklearn.ensemble import RandomForestClassifier\n",
        "from sklearn.ensemble import GradientBoostingClassifier\n",
        "from lightgbm import LGBMClassifier\n",
        "from xgboost.sklearn import XGBClassifier\n",
        "\n",
        "from sklearn.preprocessing import LabelEncoder\n",
        "from sklearn.metrics import f1_score\n",
        "from sklearn.model_selection import cross_val_score\n",
        "import time"
      ]
    },
    {
      "cell_type": "code",
      "source": [
        "uploaded = files.upload()"
      ],
      "metadata": {
        "id": "mJWagbINOQrh",
        "colab": {
          "base_uri": "https://localhost:8080/",
          "height": 144
        },
        "outputId": "0b063d40-f3a0-432c-f4bd-db0238477939"
      },
      "execution_count": 2,
      "outputs": [
        {
          "output_type": "display_data",
          "data": {
            "text/plain": [
              "<IPython.core.display.HTML object>"
            ],
            "text/html": [
              "\n",
              "     <input type=\"file\" id=\"files-446a2d43-91a5-4e21-8682-86d3affa88a3\" name=\"files[]\" multiple disabled\n",
              "        style=\"border:none\" />\n",
              "     <output id=\"result-446a2d43-91a5-4e21-8682-86d3affa88a3\">\n",
              "      Upload widget is only available when the cell has been executed in the\n",
              "      current browser session. Please rerun this cell to enable.\n",
              "      </output>\n",
              "      <script>// Copyright 2017 Google LLC\n",
              "//\n",
              "// Licensed under the Apache License, Version 2.0 (the \"License\");\n",
              "// you may not use this file except in compliance with the License.\n",
              "// You may obtain a copy of the License at\n",
              "//\n",
              "//      http://www.apache.org/licenses/LICENSE-2.0\n",
              "//\n",
              "// Unless required by applicable law or agreed to in writing, software\n",
              "// distributed under the License is distributed on an \"AS IS\" BASIS,\n",
              "// WITHOUT WARRANTIES OR CONDITIONS OF ANY KIND, either express or implied.\n",
              "// See the License for the specific language governing permissions and\n",
              "// limitations under the License.\n",
              "\n",
              "/**\n",
              " * @fileoverview Helpers for google.colab Python module.\n",
              " */\n",
              "(function(scope) {\n",
              "function span(text, styleAttributes = {}) {\n",
              "  const element = document.createElement('span');\n",
              "  element.textContent = text;\n",
              "  for (const key of Object.keys(styleAttributes)) {\n",
              "    element.style[key] = styleAttributes[key];\n",
              "  }\n",
              "  return element;\n",
              "}\n",
              "\n",
              "// Max number of bytes which will be uploaded at a time.\n",
              "const MAX_PAYLOAD_SIZE = 100 * 1024;\n",
              "\n",
              "function _uploadFiles(inputId, outputId) {\n",
              "  const steps = uploadFilesStep(inputId, outputId);\n",
              "  const outputElement = document.getElementById(outputId);\n",
              "  // Cache steps on the outputElement to make it available for the next call\n",
              "  // to uploadFilesContinue from Python.\n",
              "  outputElement.steps = steps;\n",
              "\n",
              "  return _uploadFilesContinue(outputId);\n",
              "}\n",
              "\n",
              "// This is roughly an async generator (not supported in the browser yet),\n",
              "// where there are multiple asynchronous steps and the Python side is going\n",
              "// to poll for completion of each step.\n",
              "// This uses a Promise to block the python side on completion of each step,\n",
              "// then passes the result of the previous step as the input to the next step.\n",
              "function _uploadFilesContinue(outputId) {\n",
              "  const outputElement = document.getElementById(outputId);\n",
              "  const steps = outputElement.steps;\n",
              "\n",
              "  const next = steps.next(outputElement.lastPromiseValue);\n",
              "  return Promise.resolve(next.value.promise).then((value) => {\n",
              "    // Cache the last promise value to make it available to the next\n",
              "    // step of the generator.\n",
              "    outputElement.lastPromiseValue = value;\n",
              "    return next.value.response;\n",
              "  });\n",
              "}\n",
              "\n",
              "/**\n",
              " * Generator function which is called between each async step of the upload\n",
              " * process.\n",
              " * @param {string} inputId Element ID of the input file picker element.\n",
              " * @param {string} outputId Element ID of the output display.\n",
              " * @return {!Iterable<!Object>} Iterable of next steps.\n",
              " */\n",
              "function* uploadFilesStep(inputId, outputId) {\n",
              "  const inputElement = document.getElementById(inputId);\n",
              "  inputElement.disabled = false;\n",
              "\n",
              "  const outputElement = document.getElementById(outputId);\n",
              "  outputElement.innerHTML = '';\n",
              "\n",
              "  const pickedPromise = new Promise((resolve) => {\n",
              "    inputElement.addEventListener('change', (e) => {\n",
              "      resolve(e.target.files);\n",
              "    });\n",
              "  });\n",
              "\n",
              "  const cancel = document.createElement('button');\n",
              "  inputElement.parentElement.appendChild(cancel);\n",
              "  cancel.textContent = 'Cancel upload';\n",
              "  const cancelPromise = new Promise((resolve) => {\n",
              "    cancel.onclick = () => {\n",
              "      resolve(null);\n",
              "    };\n",
              "  });\n",
              "\n",
              "  // Wait for the user to pick the files.\n",
              "  const files = yield {\n",
              "    promise: Promise.race([pickedPromise, cancelPromise]),\n",
              "    response: {\n",
              "      action: 'starting',\n",
              "    }\n",
              "  };\n",
              "\n",
              "  cancel.remove();\n",
              "\n",
              "  // Disable the input element since further picks are not allowed.\n",
              "  inputElement.disabled = true;\n",
              "\n",
              "  if (!files) {\n",
              "    return {\n",
              "      response: {\n",
              "        action: 'complete',\n",
              "      }\n",
              "    };\n",
              "  }\n",
              "\n",
              "  for (const file of files) {\n",
              "    const li = document.createElement('li');\n",
              "    li.append(span(file.name, {fontWeight: 'bold'}));\n",
              "    li.append(span(\n",
              "        `(${file.type || 'n/a'}) - ${file.size} bytes, ` +\n",
              "        `last modified: ${\n",
              "            file.lastModifiedDate ? file.lastModifiedDate.toLocaleDateString() :\n",
              "                                    'n/a'} - `));\n",
              "    const percent = span('0% done');\n",
              "    li.appendChild(percent);\n",
              "\n",
              "    outputElement.appendChild(li);\n",
              "\n",
              "    const fileDataPromise = new Promise((resolve) => {\n",
              "      const reader = new FileReader();\n",
              "      reader.onload = (e) => {\n",
              "        resolve(e.target.result);\n",
              "      };\n",
              "      reader.readAsArrayBuffer(file);\n",
              "    });\n",
              "    // Wait for the data to be ready.\n",
              "    let fileData = yield {\n",
              "      promise: fileDataPromise,\n",
              "      response: {\n",
              "        action: 'continue',\n",
              "      }\n",
              "    };\n",
              "\n",
              "    // Use a chunked sending to avoid message size limits. See b/62115660.\n",
              "    let position = 0;\n",
              "    do {\n",
              "      const length = Math.min(fileData.byteLength - position, MAX_PAYLOAD_SIZE);\n",
              "      const chunk = new Uint8Array(fileData, position, length);\n",
              "      position += length;\n",
              "\n",
              "      const base64 = btoa(String.fromCharCode.apply(null, chunk));\n",
              "      yield {\n",
              "        response: {\n",
              "          action: 'append',\n",
              "          file: file.name,\n",
              "          data: base64,\n",
              "        },\n",
              "      };\n",
              "\n",
              "      let percentDone = fileData.byteLength === 0 ?\n",
              "          100 :\n",
              "          Math.round((position / fileData.byteLength) * 100);\n",
              "      percent.textContent = `${percentDone}% done`;\n",
              "\n",
              "    } while (position < fileData.byteLength);\n",
              "  }\n",
              "\n",
              "  // All done.\n",
              "  yield {\n",
              "    response: {\n",
              "      action: 'complete',\n",
              "    }\n",
              "  };\n",
              "}\n",
              "\n",
              "scope.google = scope.google || {};\n",
              "scope.google.colab = scope.google.colab || {};\n",
              "scope.google.colab._files = {\n",
              "  _uploadFiles,\n",
              "  _uploadFilesContinue,\n",
              "};\n",
              "})(self);\n",
              "</script> "
            ]
          },
          "metadata": {}
        },
        {
          "output_type": "stream",
          "name": "stdout",
          "text": [
            "Saving test.csv to test.csv\n",
            "Saving train.csv to train.csv\n",
            "Saving sample_submission.csv to sample_submission.csv\n"
          ]
        }
      ]
    },
    {
      "cell_type": "code",
      "source": [
        "ls"
      ],
      "metadata": {
        "id": "8oOUw2STOkI7",
        "colab": {
          "base_uri": "https://localhost:8080/"
        },
        "outputId": "5a4e8a47-18ab-433b-e099-022378434fc2"
      },
      "execution_count": null,
      "outputs": [
        {
          "output_type": "stream",
          "name": "stdout",
          "text": [
            "\u001b[0m\u001b[01;34msample_data\u001b[0m/  sample_submission.csv  test.csv  train.csv\n"
          ]
        }
      ]
    },
    {
      "cell_type": "code",
      "source": [
        "train = pd.read_csv(\"train.csv\")\n",
        "test  = pd.read_csv(\"test.csv\")"
      ],
      "metadata": {
        "id": "Ez_DZtA0fT0K"
      },
      "execution_count": null,
      "outputs": []
    },
    {
      "cell_type": "code",
      "source": [
        "train.shape, test.shape"
      ],
      "metadata": {
        "colab": {
          "base_uri": "https://localhost:8080/"
        },
        "id": "VGzkMJKdf0EH",
        "outputId": "c9992897-082a-49b5-9d57-c1b8c3165112"
      },
      "execution_count": null,
      "outputs": [
        {
          "output_type": "execute_result",
          "data": {
            "text/plain": [
              "((58592, 44), (39063, 43))"
            ]
          },
          "metadata": {},
          "execution_count": 147
        }
      ]
    },
    {
      "cell_type": "code",
      "source": [
        "train.dtypes"
      ],
      "metadata": {
        "id": "skJtPxPkf92k",
        "colab": {
          "base_uri": "https://localhost:8080/"
        },
        "outputId": "e3d1d7c3-47e9-404d-cb99-f01e9f57a1a8"
      },
      "execution_count": null,
      "outputs": [
        {
          "output_type": "execute_result",
          "data": {
            "text/plain": [
              "policy_id                            object\n",
              "policy_tenure                       float64\n",
              "age_of_car                          float64\n",
              "age_of_policyholder                 float64\n",
              "area_cluster                         object\n",
              "population_density                    int64\n",
              "make                                  int64\n",
              "segment                              object\n",
              "model                                object\n",
              "fuel_type                            object\n",
              "max_torque                           object\n",
              "max_power                            object\n",
              "engine_type                          object\n",
              "airbags                               int64\n",
              "is_esc                               object\n",
              "is_adjustable_steering               object\n",
              "is_tpms                              object\n",
              "is_parking_sensors                   object\n",
              "is_parking_camera                    object\n",
              "rear_brakes_type                     object\n",
              "displacement                          int64\n",
              "cylinder                              int64\n",
              "transmission_type                    object\n",
              "gear_box                              int64\n",
              "steering_type                        object\n",
              "turning_radius                      float64\n",
              "length                                int64\n",
              "width                                 int64\n",
              "height                                int64\n",
              "gross_weight                          int64\n",
              "is_front_fog_lights                  object\n",
              "is_rear_window_wiper                 object\n",
              "is_rear_window_washer                object\n",
              "is_rear_window_defogger              object\n",
              "is_brake_assist                      object\n",
              "is_power_door_locks                  object\n",
              "is_central_locking                   object\n",
              "is_power_steering                    object\n",
              "is_driver_seat_height_adjustable     object\n",
              "is_day_night_rear_view_mirror        object\n",
              "is_ecw                               object\n",
              "is_speed_alert                       object\n",
              "ncap_rating                           int64\n",
              "is_claim                              int64\n",
              "dtype: object"
            ]
          },
          "metadata": {},
          "execution_count": 148
        }
      ]
    },
    {
      "cell_type": "code",
      "source": [
        "pd.set_option('display.max_columns', None)\n",
        "pd.set_option('display.max_rows', None)"
      ],
      "metadata": {
        "id": "HlFg84a3Jm5s"
      },
      "execution_count": null,
      "outputs": []
    },
    {
      "cell_type": "code",
      "source": [
        "# Expanding \"max_torque\" feature\n",
        "train[\"torque\"] = train[\"max_torque\"].str.split(\"Nm@|rpm\", expand=True)[0].astype(float)\n",
        "train[\"rpm\"]    = train[\"max_torque\"].str.split(\"Nm@|rpm\", expand=True)[1].astype(float)\n",
        "\n",
        "test[\"torque\"] = test[\"max_torque\"].str.split(\"Nm@|rpm\", expand=True)[0].astype(float)\n",
        "test[\"rpm\"]    = test[\"max_torque\"].str.split(\"Nm@|rpm\", expand=True)[1].astype(float)\n",
        "\n",
        "# Expanding \"max_power\" feature\n",
        "train[\"power\"] = train[\"max_power\"].str.split(\"bhp@|rpm\", expand=True)[0].astype(float)\n",
        "train[\"rpm_2\"] = train[\"max_power\"].str.split(\"bhp@|rpm\", expand=True)[1].astype(float)\n",
        "\n",
        "test[\"power\"] = test[\"max_power\"].str.split(\"bhp@|rpm\", expand=True)[0].astype(float)\n",
        "test[\"rpm_2\"] = test[\"max_power\"].str.split(\"bhp@|rpm\", expand=True)[1].astype(float)\n",
        "\n",
        "# New Features\n",
        "train[\"age_complex\"] = train[\"policy_tenure\"]*train[\"age_of_car\"]*train[\"age_of_policyholder\"]\n",
        "train[\"area\"]        = train[\"length\"]*train[\"width\"]\n",
        "train[\"volume\"]      = train[\"length\"]*train[\"width\"]*train[\"height\"]\n",
        "\n",
        "test[\"age_complex\"] = test[\"policy_tenure\"]*test[\"age_of_car\"]*test[\"age_of_policyholder\"]\n",
        "test[\"area\"]        = test[\"length\"]*test[\"width\"]\n",
        "test[\"volume\"]      = test[\"length\"]*test[\"width\"]*test[\"height\"]"
      ],
      "metadata": {
        "id": "fgk8IcbpDGii"
      },
      "execution_count": null,
      "outputs": []
    },
    {
      "cell_type": "code",
      "source": [
        "train.head(2)"
      ],
      "metadata": {
        "colab": {
          "base_uri": "https://localhost:8080/",
          "height": 211
        },
        "id": "K2dnM2EOF0kT",
        "outputId": "aa88518f-e0fd-4d9f-c1d8-e81df5d49a5c"
      },
      "execution_count": null,
      "outputs": [
        {
          "output_type": "execute_result",
          "data": {
            "text/plain": [
              "  policy_id  policy_tenure  age_of_car  age_of_policyholder area_cluster  \\\n",
              "0   ID00001       0.515874        0.05             0.644231           C1   \n",
              "1   ID00002       0.672619        0.02             0.375000           C2   \n",
              "\n",
              "   population_density  make segment model fuel_type    max_torque  \\\n",
              "0                4990     1       A    M1       CNG  60Nm@3500rpm   \n",
              "1               27003     1       A    M1       CNG  60Nm@3500rpm   \n",
              "\n",
              "          max_power        engine_type  airbags is_esc is_adjustable_steering  \\\n",
              "0  40.36bhp@6000rpm  F8D Petrol Engine        2     No                     No   \n",
              "1  40.36bhp@6000rpm  F8D Petrol Engine        2     No                     No   \n",
              "\n",
              "  is_tpms is_parking_sensors is_parking_camera rear_brakes_type  displacement  \\\n",
              "0      No                Yes                No             Drum           796   \n",
              "1      No                Yes                No             Drum           796   \n",
              "\n",
              "   cylinder transmission_type  gear_box steering_type  turning_radius  length  \\\n",
              "0         3            Manual         5         Power             4.6    3445   \n",
              "1         3            Manual         5         Power             4.6    3445   \n",
              "\n",
              "   width  height  gross_weight is_front_fog_lights is_rear_window_wiper  \\\n",
              "0   1515    1475          1185                  No                   No   \n",
              "1   1515    1475          1185                  No                   No   \n",
              "\n",
              "  is_rear_window_washer is_rear_window_defogger is_brake_assist  \\\n",
              "0                    No                      No              No   \n",
              "1                    No                      No              No   \n",
              "\n",
              "  is_power_door_locks is_central_locking is_power_steering  \\\n",
              "0                  No                 No               Yes   \n",
              "1                  No                 No               Yes   \n",
              "\n",
              "  is_driver_seat_height_adjustable is_day_night_rear_view_mirror is_ecw  \\\n",
              "0                               No                            No     No   \n",
              "1                               No                            No     No   \n",
              "\n",
              "  is_speed_alert  ncap_rating  is_claim  torque     rpm  power   rpm_2  \\\n",
              "0            Yes            0         0    60.0  3500.0  40.36  6000.0   \n",
              "1            Yes            0         0    60.0  3500.0  40.36  6000.0   \n",
              "\n",
              "   age_complex     area      volume  \n",
              "0     0.016617  5219175  7698283125  \n",
              "1     0.005045  5219175  7698283125  "
            ],
            "text/html": [
              "\n",
              "  <div id=\"df-ec4fb834-8428-4c97-844c-a90df0907a8a\">\n",
              "    <div class=\"colab-df-container\">\n",
              "      <div>\n",
              "<style scoped>\n",
              "    .dataframe tbody tr th:only-of-type {\n",
              "        vertical-align: middle;\n",
              "    }\n",
              "\n",
              "    .dataframe tbody tr th {\n",
              "        vertical-align: top;\n",
              "    }\n",
              "\n",
              "    .dataframe thead th {\n",
              "        text-align: right;\n",
              "    }\n",
              "</style>\n",
              "<table border=\"1\" class=\"dataframe\">\n",
              "  <thead>\n",
              "    <tr style=\"text-align: right;\">\n",
              "      <th></th>\n",
              "      <th>policy_id</th>\n",
              "      <th>policy_tenure</th>\n",
              "      <th>age_of_car</th>\n",
              "      <th>age_of_policyholder</th>\n",
              "      <th>area_cluster</th>\n",
              "      <th>population_density</th>\n",
              "      <th>make</th>\n",
              "      <th>segment</th>\n",
              "      <th>model</th>\n",
              "      <th>fuel_type</th>\n",
              "      <th>max_torque</th>\n",
              "      <th>max_power</th>\n",
              "      <th>engine_type</th>\n",
              "      <th>airbags</th>\n",
              "      <th>is_esc</th>\n",
              "      <th>is_adjustable_steering</th>\n",
              "      <th>is_tpms</th>\n",
              "      <th>is_parking_sensors</th>\n",
              "      <th>is_parking_camera</th>\n",
              "      <th>rear_brakes_type</th>\n",
              "      <th>displacement</th>\n",
              "      <th>cylinder</th>\n",
              "      <th>transmission_type</th>\n",
              "      <th>gear_box</th>\n",
              "      <th>steering_type</th>\n",
              "      <th>turning_radius</th>\n",
              "      <th>length</th>\n",
              "      <th>width</th>\n",
              "      <th>height</th>\n",
              "      <th>gross_weight</th>\n",
              "      <th>is_front_fog_lights</th>\n",
              "      <th>is_rear_window_wiper</th>\n",
              "      <th>is_rear_window_washer</th>\n",
              "      <th>is_rear_window_defogger</th>\n",
              "      <th>is_brake_assist</th>\n",
              "      <th>is_power_door_locks</th>\n",
              "      <th>is_central_locking</th>\n",
              "      <th>is_power_steering</th>\n",
              "      <th>is_driver_seat_height_adjustable</th>\n",
              "      <th>is_day_night_rear_view_mirror</th>\n",
              "      <th>is_ecw</th>\n",
              "      <th>is_speed_alert</th>\n",
              "      <th>ncap_rating</th>\n",
              "      <th>is_claim</th>\n",
              "      <th>torque</th>\n",
              "      <th>rpm</th>\n",
              "      <th>power</th>\n",
              "      <th>rpm_2</th>\n",
              "      <th>age_complex</th>\n",
              "      <th>area</th>\n",
              "      <th>volume</th>\n",
              "    </tr>\n",
              "  </thead>\n",
              "  <tbody>\n",
              "    <tr>\n",
              "      <th>0</th>\n",
              "      <td>ID00001</td>\n",
              "      <td>0.515874</td>\n",
              "      <td>0.05</td>\n",
              "      <td>0.644231</td>\n",
              "      <td>C1</td>\n",
              "      <td>4990</td>\n",
              "      <td>1</td>\n",
              "      <td>A</td>\n",
              "      <td>M1</td>\n",
              "      <td>CNG</td>\n",
              "      <td>60Nm@3500rpm</td>\n",
              "      <td>40.36bhp@6000rpm</td>\n",
              "      <td>F8D Petrol Engine</td>\n",
              "      <td>2</td>\n",
              "      <td>No</td>\n",
              "      <td>No</td>\n",
              "      <td>No</td>\n",
              "      <td>Yes</td>\n",
              "      <td>No</td>\n",
              "      <td>Drum</td>\n",
              "      <td>796</td>\n",
              "      <td>3</td>\n",
              "      <td>Manual</td>\n",
              "      <td>5</td>\n",
              "      <td>Power</td>\n",
              "      <td>4.6</td>\n",
              "      <td>3445</td>\n",
              "      <td>1515</td>\n",
              "      <td>1475</td>\n",
              "      <td>1185</td>\n",
              "      <td>No</td>\n",
              "      <td>No</td>\n",
              "      <td>No</td>\n",
              "      <td>No</td>\n",
              "      <td>No</td>\n",
              "      <td>No</td>\n",
              "      <td>No</td>\n",
              "      <td>Yes</td>\n",
              "      <td>No</td>\n",
              "      <td>No</td>\n",
              "      <td>No</td>\n",
              "      <td>Yes</td>\n",
              "      <td>0</td>\n",
              "      <td>0</td>\n",
              "      <td>60.0</td>\n",
              "      <td>3500.0</td>\n",
              "      <td>40.36</td>\n",
              "      <td>6000.0</td>\n",
              "      <td>0.016617</td>\n",
              "      <td>5219175</td>\n",
              "      <td>7698283125</td>\n",
              "    </tr>\n",
              "    <tr>\n",
              "      <th>1</th>\n",
              "      <td>ID00002</td>\n",
              "      <td>0.672619</td>\n",
              "      <td>0.02</td>\n",
              "      <td>0.375000</td>\n",
              "      <td>C2</td>\n",
              "      <td>27003</td>\n",
              "      <td>1</td>\n",
              "      <td>A</td>\n",
              "      <td>M1</td>\n",
              "      <td>CNG</td>\n",
              "      <td>60Nm@3500rpm</td>\n",
              "      <td>40.36bhp@6000rpm</td>\n",
              "      <td>F8D Petrol Engine</td>\n",
              "      <td>2</td>\n",
              "      <td>No</td>\n",
              "      <td>No</td>\n",
              "      <td>No</td>\n",
              "      <td>Yes</td>\n",
              "      <td>No</td>\n",
              "      <td>Drum</td>\n",
              "      <td>796</td>\n",
              "      <td>3</td>\n",
              "      <td>Manual</td>\n",
              "      <td>5</td>\n",
              "      <td>Power</td>\n",
              "      <td>4.6</td>\n",
              "      <td>3445</td>\n",
              "      <td>1515</td>\n",
              "      <td>1475</td>\n",
              "      <td>1185</td>\n",
              "      <td>No</td>\n",
              "      <td>No</td>\n",
              "      <td>No</td>\n",
              "      <td>No</td>\n",
              "      <td>No</td>\n",
              "      <td>No</td>\n",
              "      <td>No</td>\n",
              "      <td>Yes</td>\n",
              "      <td>No</td>\n",
              "      <td>No</td>\n",
              "      <td>No</td>\n",
              "      <td>Yes</td>\n",
              "      <td>0</td>\n",
              "      <td>0</td>\n",
              "      <td>60.0</td>\n",
              "      <td>3500.0</td>\n",
              "      <td>40.36</td>\n",
              "      <td>6000.0</td>\n",
              "      <td>0.005045</td>\n",
              "      <td>5219175</td>\n",
              "      <td>7698283125</td>\n",
              "    </tr>\n",
              "  </tbody>\n",
              "</table>\n",
              "</div>\n",
              "      <button class=\"colab-df-convert\" onclick=\"convertToInteractive('df-ec4fb834-8428-4c97-844c-a90df0907a8a')\"\n",
              "              title=\"Convert this dataframe to an interactive table.\"\n",
              "              style=\"display:none;\">\n",
              "        \n",
              "  <svg xmlns=\"http://www.w3.org/2000/svg\" height=\"24px\"viewBox=\"0 0 24 24\"\n",
              "       width=\"24px\">\n",
              "    <path d=\"M0 0h24v24H0V0z\" fill=\"none\"/>\n",
              "    <path d=\"M18.56 5.44l.94 2.06.94-2.06 2.06-.94-2.06-.94-.94-2.06-.94 2.06-2.06.94zm-11 1L8.5 8.5l.94-2.06 2.06-.94-2.06-.94L8.5 2.5l-.94 2.06-2.06.94zm10 10l.94 2.06.94-2.06 2.06-.94-2.06-.94-.94-2.06-.94 2.06-2.06.94z\"/><path d=\"M17.41 7.96l-1.37-1.37c-.4-.4-.92-.59-1.43-.59-.52 0-1.04.2-1.43.59L10.3 9.45l-7.72 7.72c-.78.78-.78 2.05 0 2.83L4 21.41c.39.39.9.59 1.41.59.51 0 1.02-.2 1.41-.59l7.78-7.78 2.81-2.81c.8-.78.8-2.07 0-2.86zM5.41 20L4 18.59l7.72-7.72 1.47 1.35L5.41 20z\"/>\n",
              "  </svg>\n",
              "      </button>\n",
              "      \n",
              "  <style>\n",
              "    .colab-df-container {\n",
              "      display:flex;\n",
              "      flex-wrap:wrap;\n",
              "      gap: 12px;\n",
              "    }\n",
              "\n",
              "    .colab-df-convert {\n",
              "      background-color: #E8F0FE;\n",
              "      border: none;\n",
              "      border-radius: 50%;\n",
              "      cursor: pointer;\n",
              "      display: none;\n",
              "      fill: #1967D2;\n",
              "      height: 32px;\n",
              "      padding: 0 0 0 0;\n",
              "      width: 32px;\n",
              "    }\n",
              "\n",
              "    .colab-df-convert:hover {\n",
              "      background-color: #E2EBFA;\n",
              "      box-shadow: 0px 1px 2px rgba(60, 64, 67, 0.3), 0px 1px 3px 1px rgba(60, 64, 67, 0.15);\n",
              "      fill: #174EA6;\n",
              "    }\n",
              "\n",
              "    [theme=dark] .colab-df-convert {\n",
              "      background-color: #3B4455;\n",
              "      fill: #D2E3FC;\n",
              "    }\n",
              "\n",
              "    [theme=dark] .colab-df-convert:hover {\n",
              "      background-color: #434B5C;\n",
              "      box-shadow: 0px 1px 3px 1px rgba(0, 0, 0, 0.15);\n",
              "      filter: drop-shadow(0px 1px 2px rgba(0, 0, 0, 0.3));\n",
              "      fill: #FFFFFF;\n",
              "    }\n",
              "  </style>\n",
              "\n",
              "      <script>\n",
              "        const buttonEl =\n",
              "          document.querySelector('#df-ec4fb834-8428-4c97-844c-a90df0907a8a button.colab-df-convert');\n",
              "        buttonEl.style.display =\n",
              "          google.colab.kernel.accessAllowed ? 'block' : 'none';\n",
              "\n",
              "        async function convertToInteractive(key) {\n",
              "          const element = document.querySelector('#df-ec4fb834-8428-4c97-844c-a90df0907a8a');\n",
              "          const dataTable =\n",
              "            await google.colab.kernel.invokeFunction('convertToInteractive',\n",
              "                                                     [key], {});\n",
              "          if (!dataTable) return;\n",
              "\n",
              "          const docLinkHtml = 'Like what you see? Visit the ' +\n",
              "            '<a target=\"_blank\" href=https://colab.research.google.com/notebooks/data_table.ipynb>data table notebook</a>'\n",
              "            + ' to learn more about interactive tables.';\n",
              "          element.innerHTML = '';\n",
              "          dataTable['output_type'] = 'display_data';\n",
              "          await google.colab.output.renderOutput(dataTable, element);\n",
              "          const docLink = document.createElement('div');\n",
              "          docLink.innerHTML = docLinkHtml;\n",
              "          element.appendChild(docLink);\n",
              "        }\n",
              "      </script>\n",
              "    </div>\n",
              "  </div>\n",
              "  "
            ]
          },
          "metadata": {},
          "execution_count": 150
        }
      ]
    },
    {
      "cell_type": "code",
      "source": [
        "# Label Encoding\n",
        "from sklearn.preprocessing import LabelEncoder\n",
        "\n",
        "lb_columns = [\"area_cluster\", \"segment\", \"model\", \"fuel_type\", \n",
        "              \"max_torque\", \"max_power\", \"engine_type\", \"is_esc\",\n",
        "              \"is_adjustable_steering\", \"is_tpms\", \"is_parking_sensors\",\n",
        "              \"is_parking_camera\", \"rear_brakes_type\", \"transmission_type\",\n",
        "              \"steering_type\", \"is_front_fog_lights\", \"is_rear_window_wiper\",\n",
        "              \"is_rear_window_washer\", \"is_rear_window_defogger\", \"is_brake_assist\",\n",
        "              \"is_power_door_locks\", \"is_central_locking\", \"is_power_steering\",\n",
        "              \"is_driver_seat_height_adjustable\", \"is_day_night_rear_view_mirror\",\n",
        "              \"is_ecw\", \"is_speed_alert\"]\n",
        "\n",
        "for col in lb_columns:\n",
        "  lb = LabelEncoder() \n",
        "  train[col] = lb.fit_transform(train[col])\n",
        "  test[col]  = lb.transform(test[col])"
      ],
      "metadata": {
        "id": "nLTzc2bAWDHs"
      },
      "execution_count": null,
      "outputs": []
    },
    {
      "cell_type": "code",
      "source": [
        "train.shape, test.shape"
      ],
      "metadata": {
        "colab": {
          "base_uri": "https://localhost:8080/"
        },
        "id": "I3FsKUtZHjJF",
        "outputId": "64adcc91-b5f0-42d1-b908-88c0386d4094"
      },
      "execution_count": null,
      "outputs": [
        {
          "output_type": "execute_result",
          "data": {
            "text/plain": [
              "((58592, 51), (39063, 50))"
            ]
          },
          "metadata": {},
          "execution_count": 152
        }
      ]
    },
    {
      "cell_type": "code",
      "source": [
        "train.head(1)"
      ],
      "metadata": {
        "colab": {
          "base_uri": "https://localhost:8080/",
          "height": 145
        },
        "id": "kqFCpgIvfqtk",
        "outputId": "46d76b8e-ee47-4709-c1d2-8008015a460c"
      },
      "execution_count": null,
      "outputs": [
        {
          "output_type": "execute_result",
          "data": {
            "text/plain": [
              "  policy_id  policy_tenure  age_of_car  age_of_policyholder  area_cluster  \\\n",
              "0   ID00001       0.515874        0.05             0.644231             0   \n",
              "\n",
              "   population_density  make  segment  model  fuel_type  max_torque  max_power  \\\n",
              "0                4990     1        0      0          0           5          2   \n",
              "\n",
              "   engine_type  airbags  is_esc  is_adjustable_steering  is_tpms  \\\n",
              "0            6        2       0                       0        0   \n",
              "\n",
              "   is_parking_sensors  is_parking_camera  rear_brakes_type  displacement  \\\n",
              "0                   1                  0                 1           796   \n",
              "\n",
              "   cylinder  transmission_type  gear_box  steering_type  turning_radius  \\\n",
              "0         3                  1         5              2             4.6   \n",
              "\n",
              "   length  width  height  gross_weight  is_front_fog_lights  \\\n",
              "0    3445   1515    1475          1185                    0   \n",
              "\n",
              "   is_rear_window_wiper  is_rear_window_washer  is_rear_window_defogger  \\\n",
              "0                     0                      0                        0   \n",
              "\n",
              "   is_brake_assist  is_power_door_locks  is_central_locking  \\\n",
              "0                0                    0                   0   \n",
              "\n",
              "   is_power_steering  is_driver_seat_height_adjustable  \\\n",
              "0                  1                                 0   \n",
              "\n",
              "   is_day_night_rear_view_mirror  is_ecw  is_speed_alert  ncap_rating  \\\n",
              "0                              0       0               1            0   \n",
              "\n",
              "   is_claim  torque     rpm  power   rpm_2  age_complex     area      volume  \n",
              "0         0    60.0  3500.0  40.36  6000.0     0.016617  5219175  7698283125  "
            ],
            "text/html": [
              "\n",
              "  <div id=\"df-66021abe-55be-4727-972a-81862b404667\">\n",
              "    <div class=\"colab-df-container\">\n",
              "      <div>\n",
              "<style scoped>\n",
              "    .dataframe tbody tr th:only-of-type {\n",
              "        vertical-align: middle;\n",
              "    }\n",
              "\n",
              "    .dataframe tbody tr th {\n",
              "        vertical-align: top;\n",
              "    }\n",
              "\n",
              "    .dataframe thead th {\n",
              "        text-align: right;\n",
              "    }\n",
              "</style>\n",
              "<table border=\"1\" class=\"dataframe\">\n",
              "  <thead>\n",
              "    <tr style=\"text-align: right;\">\n",
              "      <th></th>\n",
              "      <th>policy_id</th>\n",
              "      <th>policy_tenure</th>\n",
              "      <th>age_of_car</th>\n",
              "      <th>age_of_policyholder</th>\n",
              "      <th>area_cluster</th>\n",
              "      <th>population_density</th>\n",
              "      <th>make</th>\n",
              "      <th>segment</th>\n",
              "      <th>model</th>\n",
              "      <th>fuel_type</th>\n",
              "      <th>max_torque</th>\n",
              "      <th>max_power</th>\n",
              "      <th>engine_type</th>\n",
              "      <th>airbags</th>\n",
              "      <th>is_esc</th>\n",
              "      <th>is_adjustable_steering</th>\n",
              "      <th>is_tpms</th>\n",
              "      <th>is_parking_sensors</th>\n",
              "      <th>is_parking_camera</th>\n",
              "      <th>rear_brakes_type</th>\n",
              "      <th>displacement</th>\n",
              "      <th>cylinder</th>\n",
              "      <th>transmission_type</th>\n",
              "      <th>gear_box</th>\n",
              "      <th>steering_type</th>\n",
              "      <th>turning_radius</th>\n",
              "      <th>length</th>\n",
              "      <th>width</th>\n",
              "      <th>height</th>\n",
              "      <th>gross_weight</th>\n",
              "      <th>is_front_fog_lights</th>\n",
              "      <th>is_rear_window_wiper</th>\n",
              "      <th>is_rear_window_washer</th>\n",
              "      <th>is_rear_window_defogger</th>\n",
              "      <th>is_brake_assist</th>\n",
              "      <th>is_power_door_locks</th>\n",
              "      <th>is_central_locking</th>\n",
              "      <th>is_power_steering</th>\n",
              "      <th>is_driver_seat_height_adjustable</th>\n",
              "      <th>is_day_night_rear_view_mirror</th>\n",
              "      <th>is_ecw</th>\n",
              "      <th>is_speed_alert</th>\n",
              "      <th>ncap_rating</th>\n",
              "      <th>is_claim</th>\n",
              "      <th>torque</th>\n",
              "      <th>rpm</th>\n",
              "      <th>power</th>\n",
              "      <th>rpm_2</th>\n",
              "      <th>age_complex</th>\n",
              "      <th>area</th>\n",
              "      <th>volume</th>\n",
              "    </tr>\n",
              "  </thead>\n",
              "  <tbody>\n",
              "    <tr>\n",
              "      <th>0</th>\n",
              "      <td>ID00001</td>\n",
              "      <td>0.515874</td>\n",
              "      <td>0.05</td>\n",
              "      <td>0.644231</td>\n",
              "      <td>0</td>\n",
              "      <td>4990</td>\n",
              "      <td>1</td>\n",
              "      <td>0</td>\n",
              "      <td>0</td>\n",
              "      <td>0</td>\n",
              "      <td>5</td>\n",
              "      <td>2</td>\n",
              "      <td>6</td>\n",
              "      <td>2</td>\n",
              "      <td>0</td>\n",
              "      <td>0</td>\n",
              "      <td>0</td>\n",
              "      <td>1</td>\n",
              "      <td>0</td>\n",
              "      <td>1</td>\n",
              "      <td>796</td>\n",
              "      <td>3</td>\n",
              "      <td>1</td>\n",
              "      <td>5</td>\n",
              "      <td>2</td>\n",
              "      <td>4.6</td>\n",
              "      <td>3445</td>\n",
              "      <td>1515</td>\n",
              "      <td>1475</td>\n",
              "      <td>1185</td>\n",
              "      <td>0</td>\n",
              "      <td>0</td>\n",
              "      <td>0</td>\n",
              "      <td>0</td>\n",
              "      <td>0</td>\n",
              "      <td>0</td>\n",
              "      <td>0</td>\n",
              "      <td>1</td>\n",
              "      <td>0</td>\n",
              "      <td>0</td>\n",
              "      <td>0</td>\n",
              "      <td>1</td>\n",
              "      <td>0</td>\n",
              "      <td>0</td>\n",
              "      <td>60.0</td>\n",
              "      <td>3500.0</td>\n",
              "      <td>40.36</td>\n",
              "      <td>6000.0</td>\n",
              "      <td>0.016617</td>\n",
              "      <td>5219175</td>\n",
              "      <td>7698283125</td>\n",
              "    </tr>\n",
              "  </tbody>\n",
              "</table>\n",
              "</div>\n",
              "      <button class=\"colab-df-convert\" onclick=\"convertToInteractive('df-66021abe-55be-4727-972a-81862b404667')\"\n",
              "              title=\"Convert this dataframe to an interactive table.\"\n",
              "              style=\"display:none;\">\n",
              "        \n",
              "  <svg xmlns=\"http://www.w3.org/2000/svg\" height=\"24px\"viewBox=\"0 0 24 24\"\n",
              "       width=\"24px\">\n",
              "    <path d=\"M0 0h24v24H0V0z\" fill=\"none\"/>\n",
              "    <path d=\"M18.56 5.44l.94 2.06.94-2.06 2.06-.94-2.06-.94-.94-2.06-.94 2.06-2.06.94zm-11 1L8.5 8.5l.94-2.06 2.06-.94-2.06-.94L8.5 2.5l-.94 2.06-2.06.94zm10 10l.94 2.06.94-2.06 2.06-.94-2.06-.94-.94-2.06-.94 2.06-2.06.94z\"/><path d=\"M17.41 7.96l-1.37-1.37c-.4-.4-.92-.59-1.43-.59-.52 0-1.04.2-1.43.59L10.3 9.45l-7.72 7.72c-.78.78-.78 2.05 0 2.83L4 21.41c.39.39.9.59 1.41.59.51 0 1.02-.2 1.41-.59l7.78-7.78 2.81-2.81c.8-.78.8-2.07 0-2.86zM5.41 20L4 18.59l7.72-7.72 1.47 1.35L5.41 20z\"/>\n",
              "  </svg>\n",
              "      </button>\n",
              "      \n",
              "  <style>\n",
              "    .colab-df-container {\n",
              "      display:flex;\n",
              "      flex-wrap:wrap;\n",
              "      gap: 12px;\n",
              "    }\n",
              "\n",
              "    .colab-df-convert {\n",
              "      background-color: #E8F0FE;\n",
              "      border: none;\n",
              "      border-radius: 50%;\n",
              "      cursor: pointer;\n",
              "      display: none;\n",
              "      fill: #1967D2;\n",
              "      height: 32px;\n",
              "      padding: 0 0 0 0;\n",
              "      width: 32px;\n",
              "    }\n",
              "\n",
              "    .colab-df-convert:hover {\n",
              "      background-color: #E2EBFA;\n",
              "      box-shadow: 0px 1px 2px rgba(60, 64, 67, 0.3), 0px 1px 3px 1px rgba(60, 64, 67, 0.15);\n",
              "      fill: #174EA6;\n",
              "    }\n",
              "\n",
              "    [theme=dark] .colab-df-convert {\n",
              "      background-color: #3B4455;\n",
              "      fill: #D2E3FC;\n",
              "    }\n",
              "\n",
              "    [theme=dark] .colab-df-convert:hover {\n",
              "      background-color: #434B5C;\n",
              "      box-shadow: 0px 1px 3px 1px rgba(0, 0, 0, 0.15);\n",
              "      filter: drop-shadow(0px 1px 2px rgba(0, 0, 0, 0.3));\n",
              "      fill: #FFFFFF;\n",
              "    }\n",
              "  </style>\n",
              "\n",
              "      <script>\n",
              "        const buttonEl =\n",
              "          document.querySelector('#df-66021abe-55be-4727-972a-81862b404667 button.colab-df-convert');\n",
              "        buttonEl.style.display =\n",
              "          google.colab.kernel.accessAllowed ? 'block' : 'none';\n",
              "\n",
              "        async function convertToInteractive(key) {\n",
              "          const element = document.querySelector('#df-66021abe-55be-4727-972a-81862b404667');\n",
              "          const dataTable =\n",
              "            await google.colab.kernel.invokeFunction('convertToInteractive',\n",
              "                                                     [key], {});\n",
              "          if (!dataTable) return;\n",
              "\n",
              "          const docLinkHtml = 'Like what you see? Visit the ' +\n",
              "            '<a target=\"_blank\" href=https://colab.research.google.com/notebooks/data_table.ipynb>data table notebook</a>'\n",
              "            + ' to learn more about interactive tables.';\n",
              "          element.innerHTML = '';\n",
              "          dataTable['output_type'] = 'display_data';\n",
              "          await google.colab.output.renderOutput(dataTable, element);\n",
              "          const docLink = document.createElement('div');\n",
              "          docLink.innerHTML = docLinkHtml;\n",
              "          element.appendChild(docLink);\n",
              "        }\n",
              "      </script>\n",
              "    </div>\n",
              "  </div>\n",
              "  "
            ]
          },
          "metadata": {},
          "execution_count": 153
        }
      ]
    },
    {
      "cell_type": "code",
      "source": [
        "#One hot encoding\n",
        "# This can be done through the pipeline but I preferred to follow the tutorial\n",
        "ohe_columns = ['area_cluster','make','segment','model','fuel_type',\n",
        "               'max_torque','max_power', 'engine_type','steering_type']\n",
        "\n",
        "train = pd.get_dummies(train, columns = ohe_columns, drop_first=True)\n",
        "test  = pd.get_dummies(test,  columns = ohe_columns, drop_first=True)"
      ],
      "metadata": {
        "id": "o5uwHut5MDy8"
      },
      "execution_count": null,
      "outputs": []
    },
    {
      "cell_type": "code",
      "source": [
        "train.shape, test.shape"
      ],
      "metadata": {
        "colab": {
          "base_uri": "https://localhost:8080/"
        },
        "id": "XvAi-Fweh_8O",
        "outputId": "5e1942aa-8fda-4d5a-fa1e-7dead5bf9b3a"
      },
      "execution_count": null,
      "outputs": [
        {
          "output_type": "execute_result",
          "data": {
            "text/plain": [
              "((58592, 112), (39063, 111))"
            ]
          },
          "metadata": {},
          "execution_count": 155
        }
      ]
    },
    {
      "cell_type": "code",
      "source": [
        "# Highly imbalanced\n",
        "train[\"is_claim\"].value_counts(normalize=True)"
      ],
      "metadata": {
        "colab": {
          "base_uri": "https://localhost:8080/"
        },
        "id": "WogbPOQeK6Je",
        "outputId": "a41eecfe-d1d9-4e33-a0bd-938c2c6369d1"
      },
      "execution_count": null,
      "outputs": [
        {
          "output_type": "execute_result",
          "data": {
            "text/plain": [
              "0    0.936032\n",
              "1    0.063968\n",
              "Name: is_claim, dtype: float64"
            ]
          },
          "metadata": {},
          "execution_count": 156
        }
      ]
    },
    {
      "cell_type": "code",
      "source": [
        "# Definig the features and target\n",
        "X_train = train.drop([\"is_claim\", \"policy_id\"], axis =1)\n",
        "y_train = train[\"is_claim\"]\n",
        "\n",
        "X_test  = test.drop([\"policy_id\"], axis =1)"
      ],
      "metadata": {
        "id": "Paz74DO6MDs8"
      },
      "execution_count": null,
      "outputs": []
    },
    {
      "cell_type": "code",
      "source": [
        "# Scaling The Features\n",
        "scaler = MinMaxScaler()\n",
        "X_train_scaled = scaler.fit_transform(X_train)\n",
        "y_train_scaled = y_train.copy()\n",
        "\n",
        "X_test_scaled  = scaler.transform(X_test)"
      ],
      "metadata": {
        "id": "5gl951M3MDkU"
      },
      "execution_count": null,
      "outputs": []
    },
    {
      "cell_type": "code",
      "source": [
        "# SMOTEENN\n",
        "from imblearn.combine import SMOTEENN\n",
        "smt = SMOTEENN(sampling_strategy='all')\n",
        "X_smt, y_smt = smt.fit_resample(X_train_scaled, y_train_scaled)\n",
        "\n",
        "y_smt.value_counts(normalize=True)*100"
      ],
      "metadata": {
        "colab": {
          "base_uri": "https://localhost:8080/"
        },
        "id": "FUUunzQSnST8",
        "outputId": "16f14949-db07-4e66-c956-046c3d22ce03"
      },
      "execution_count": null,
      "outputs": [
        {
          "output_type": "execute_result",
          "data": {
            "text/plain": [
              "1    55.280072\n",
              "0    44.719928\n",
              "Name: is_claim, dtype: float64"
            ]
          },
          "metadata": {},
          "execution_count": 164
        }
      ]
    },
    {
      "cell_type": "code",
      "source": [
        "# All Classification Models After SMOTEEN\n",
        "classifiers = [GaussianNB(), MultinomialNB(),\n",
        "               SGDClassifier(), KNeighborsClassifier(), DecisionTreeClassifier(),\n",
        "               RandomForestClassifier(), GradientBoostingClassifier(),\n",
        "               LGBMClassifier(), XGBClassifier()]\n",
        "\n",
        "score = []\n",
        "for clf in classifiers:\n",
        "  print(\"Solving Model:\", str(clf)[:-2], end = ' ')\n",
        "  start  = time.time()\n",
        "  model  = clf\n",
        "  model.fit(X_smt, y_smt)\n",
        "\n",
        "  val_f1 = np.mean(cross_val_score(model, X_smt, y_smt, \n",
        "                                   cv=5, scoring=\"f1\"))\n",
        "  end    = time.time()\n",
        "  print(\"Execution Time:\",int(end - start), \" sec\")\n",
        "  score.append([val_f1,str(clf)[:-2]])\n",
        "  \n",
        "score = sorted(score,reverse=True)\n",
        "for i in range(len(score)):\n",
        "  print(\"%26s %15s %6.3f\"  %(score[i][1],\"Validation F1:\",score[i][0]))"
      ],
      "metadata": {
        "colab": {
          "base_uri": "https://localhost:8080/"
        },
        "id": "ZFyqjDadnSQ2",
        "outputId": "52af46f1-9bc7-4f0e-b1ba-c80f3c3174d8"
      },
      "execution_count": null,
      "outputs": [
        {
          "output_type": "stream",
          "name": "stdout",
          "text": [
            "Solving Model: GaussianNB Execution Time: 1  sec\n",
            "Solving Model: MultinomialNB Execution Time: 0  sec\n",
            "Solving Model: SGDClassifier Execution Time: 12  sec\n",
            "Solving Model: KNeighborsClassifier Execution Time: 122  sec\n",
            "Solving Model: DecisionTreeClassifier Execution Time: 14  sec\n",
            "Solving Model: RandomForestClassifier Execution Time: 96  sec\n",
            "Solving Model: GradientBoostingClassifier Execution Time: 289  sec\n",
            "Solving Model: LGBMClassifier Execution Time: 14  sec\n",
            "Solving Model: XGBClassifier Execution Time: 98  sec\n",
            "    RandomForestClassifier  Validation F1:  0.966\n",
            "      KNeighborsClassifier  Validation F1:  0.954\n",
            "    DecisionTreeClassifier  Validation F1:  0.931\n",
            "            LGBMClassifier  Validation F1:  0.929\n",
            "             XGBClassifier  Validation F1:  0.865\n",
            "GradientBoostingClassifier  Validation F1:  0.865\n",
            "             SGDClassifier  Validation F1:  0.693\n",
            "                GaussianNB  Validation F1:  0.672\n",
            "             MultinomialNB  Validation F1:  0.618\n"
          ]
        }
      ]
    },
    {
      "cell_type": "code",
      "source": [
        "# Final Model\n",
        "clf = RandomForestClassifier()\n",
        "clf.fit(X_smt, y_smt)\n",
        "\n",
        "submission = pd.read_csv('sample_submission.csv')\n",
        "final_predictions = clf.predict(X_test_scaled)\n",
        "\n",
        "submission['is_claim'] = final_predictions\n",
        "submission.to_csv('my_submission.csv', index=False)"
      ],
      "metadata": {
        "id": "gj1FxxL2nSN7"
      },
      "execution_count": null,
      "outputs": []
    },
    {
      "cell_type": "code",
      "source": [
        "clf.get_params()"
      ],
      "metadata": {
        "colab": {
          "base_uri": "https://localhost:8080/"
        },
        "id": "mvbbr0dahb4S",
        "outputId": "a59f1c35-aa7e-43e4-f0a1-d69160e57b80"
      },
      "execution_count": null,
      "outputs": [
        {
          "output_type": "execute_result",
          "data": {
            "text/plain": [
              "{'bootstrap': True,\n",
              " 'ccp_alpha': 0.0,\n",
              " 'class_weight': None,\n",
              " 'criterion': 'gini',\n",
              " 'max_depth': None,\n",
              " 'max_features': 'auto',\n",
              " 'max_leaf_nodes': None,\n",
              " 'max_samples': None,\n",
              " 'min_impurity_decrease': 0.0,\n",
              " 'min_samples_leaf': 1,\n",
              " 'min_samples_split': 2,\n",
              " 'min_weight_fraction_leaf': 0.0,\n",
              " 'n_estimators': 100,\n",
              " 'n_jobs': None,\n",
              " 'oob_score': False,\n",
              " 'random_state': None,\n",
              " 'verbose': 0,\n",
              " 'warm_start': False}"
            ]
          },
          "metadata": {},
          "execution_count": 170
        }
      ]
    },
    {
      "cell_type": "code",
      "source": [
        "# Random Forest Random Search\n",
        "from sklearn.ensemble import RandomForestClassifier\n",
        "from scipy.stats import randint\n",
        "from sklearn.model_selection import RandomizedSearchCV\n",
        "\n",
        "rs_params = {'max_depth':list(np.arange(10, 100, step=10)) + [None],\n",
        "              'n_estimators':np.arange(10, 500, step=50),\n",
        "              'max_features':randint(1,7),\n",
        "              'criterion':['gini','entropy'],\n",
        "              'min_samples_leaf':randint(1,4),\n",
        "              'min_samples_split':np.arange(2, 10, step=2)\n",
        "          }\n",
        "rs_cv = RandomizedSearchCV(RandomForestClassifier(), rs_params,\n",
        "                           cv= 5)\n",
        "\n",
        "# Train on training data or SMOTEEN\n",
        "rs_cv.fit(X_smt, y_smt)\n",
        "\n",
        "# Print the best parameters\n",
        "print(rs_cv.best_params_)"
      ],
      "metadata": {
        "colab": {
          "base_uri": "https://localhost:8080/"
        },
        "id": "qJ5TfQh5hxER",
        "outputId": "94686ce3-5ad7-4be0-c90d-7ef18baae96b"
      },
      "execution_count": null,
      "outputs": [
        {
          "output_type": "stream",
          "name": "stdout",
          "text": [
            "{'criterion': 'gini', 'max_depth': 80, 'max_features': 2, 'min_samples_leaf': 1, 'min_samples_split': 4, 'n_estimators': 210}\n"
          ]
        }
      ]
    },
    {
      "cell_type": "code",
      "source": [
        "# Final Model\n",
        "\n",
        "submission = pd.read_csv('sample_submission.csv')\n",
        "final_predictions = rs_cv.predict(X_test_scaled)\n",
        "\n",
        "submission['is_claim'] = final_predictions\n",
        "submission.to_csv('my_submission.csv', index=False)"
      ],
      "metadata": {
        "id": "sJzyPwOQhxBQ"
      },
      "execution_count": null,
      "outputs": []
    },
    {
      "cell_type": "code",
      "source": [],
      "metadata": {
        "id": "GtmlsWhahb0k"
      },
      "execution_count": null,
      "outputs": []
    },
    {
      "cell_type": "code",
      "source": [],
      "metadata": {
        "id": "ijIThVDGhbxm"
      },
      "execution_count": null,
      "outputs": []
    },
    {
      "cell_type": "code",
      "source": [],
      "metadata": {
        "id": "LghUYpJ3hbuY"
      },
      "execution_count": null,
      "outputs": []
    },
    {
      "cell_type": "code",
      "source": [
        "# Chi square test for feature selection\n",
        "from sklearn.feature_selection import chi2\n",
        "\n",
        "# Label Encoding Needed for chi2 module to work properly\n",
        "lb_df    = train.copy()   # Copy is important\n",
        "\n",
        "X = lb_df.drop(['policy_id','is_claim'],axis=1)\n",
        "y = lb_df['is_claim']\n",
        "\n",
        "chi_scores = chi2(X,y)\n",
        "p_val      = pd.Series(chi_scores[1],index = X.columns)\n",
        "\n",
        "# Dependent features according to Chi-Squared Test\n",
        "# we are using 95% confidence interval for this test\n",
        "print(\"Important fetures are:\")\n",
        "print(\"-----------------------------------\")\n",
        "imp_features   = []\n",
        "unimp_features = []\n",
        "for col in X.columns:\n",
        "  if p_val.loc[col] <= 0.05:\n",
        "    #print(col, \"p value:\", round(p_val.loc[col],3))\n",
        "    imp_features.append(col)\n",
        "  else:\n",
        "    unimp_features.append(col)"
      ],
      "metadata": {
        "colab": {
          "base_uri": "https://localhost:8080/"
        },
        "id": "k0ZlpY-7HAEQ",
        "outputId": "2418d2af-a978-4c3c-ce86-c995de926653"
      },
      "execution_count": null,
      "outputs": [
        {
          "output_type": "stream",
          "name": "stdout",
          "text": [
            "Important fetures are:\n",
            "-----------------------------------\n"
          ]
        }
      ]
    },
    {
      "cell_type": "code",
      "source": [
        "imp_features"
      ],
      "metadata": {
        "colab": {
          "base_uri": "https://localhost:8080/"
        },
        "id": "ZTqy8YL4G-m5",
        "outputId": "e4030a52-ef9d-4509-e7ad-e433d03f9b07"
      },
      "execution_count": null,
      "outputs": [
        {
          "output_type": "execute_result",
          "data": {
            "text/plain": [
              "['policy_tenure',\n",
              " 'area_cluster',\n",
              " 'population_density',\n",
              " 'model',\n",
              " 'max_torque',\n",
              " 'max_power',\n",
              " 'is_adjustable_steering',\n",
              " 'displacement',\n",
              " 'steering_type',\n",
              " 'length',\n",
              " 'width',\n",
              " 'gross_weight',\n",
              " 'torque',\n",
              " 'rpm',\n",
              " 'power',\n",
              " 'area',\n",
              " 'volume']"
            ]
          },
          "metadata": {},
          "execution_count": 112
        }
      ]
    },
    {
      "cell_type": "code",
      "source": [
        "unimp_features"
      ],
      "metadata": {
        "colab": {
          "base_uri": "https://localhost:8080/"
        },
        "id": "hOKJSZUifie1",
        "outputId": "dc3c4dbf-5591-4645-b06d-aedba41d9674"
      },
      "execution_count": null,
      "outputs": [
        {
          "output_type": "execute_result",
          "data": {
            "text/plain": [
              "['age_of_car',\n",
              " 'age_of_policyholder',\n",
              " 'make',\n",
              " 'segment',\n",
              " 'fuel_type',\n",
              " 'engine_type',\n",
              " 'airbags',\n",
              " 'is_esc',\n",
              " 'is_tpms',\n",
              " 'is_parking_sensors',\n",
              " 'is_parking_camera',\n",
              " 'rear_brakes_type',\n",
              " 'cylinder',\n",
              " 'transmission_type',\n",
              " 'gear_box',\n",
              " 'turning_radius',\n",
              " 'height',\n",
              " 'is_front_fog_lights',\n",
              " 'is_rear_window_wiper',\n",
              " 'is_rear_window_washer',\n",
              " 'is_rear_window_defogger',\n",
              " 'is_brake_assist',\n",
              " 'is_power_door_locks',\n",
              " 'is_central_locking',\n",
              " 'is_power_steering',\n",
              " 'is_driver_seat_height_adjustable',\n",
              " 'is_day_night_rear_view_mirror',\n",
              " 'is_ecw',\n",
              " 'is_speed_alert',\n",
              " 'ncap_rating',\n",
              " 'rpm_2',\n",
              " 'age_complex']"
            ]
          },
          "metadata": {},
          "execution_count": 113
        }
      ]
    },
    {
      "cell_type": "code",
      "source": [
        "train = train.drop(unimp_features, axis =1)\n",
        "test  = test.drop(unimp_features, axis =1)"
      ],
      "metadata": {
        "id": "b_4N1NKyf7Zr"
      },
      "execution_count": null,
      "outputs": []
    },
    {
      "cell_type": "code",
      "source": [
        "train.head(2)"
      ],
      "metadata": {
        "colab": {
          "base_uri": "https://localhost:8080/",
          "height": 176
        },
        "id": "EW0eNSVJg6Di",
        "outputId": "4526edf0-7973-4c11-cdec-ec964bc6daa2"
      },
      "execution_count": null,
      "outputs": [
        {
          "output_type": "execute_result",
          "data": {
            "text/plain": [
              "  policy_id  policy_tenure  area_cluster  population_density  model  \\\n",
              "0   ID00001       0.515874             0                4990      0   \n",
              "1   ID00002       0.672619            11               27003      0   \n",
              "\n",
              "   max_torque  max_power  is_adjustable_steering  displacement  steering_type  \\\n",
              "0           5          2                       0           796              2   \n",
              "1           5          2                       0           796              2   \n",
              "\n",
              "   length  width  gross_weight  is_claim  torque     rpm  power     area  \\\n",
              "0    3445   1515          1185         0    60.0  3500.0  40.36  5219175   \n",
              "1    3445   1515          1185         0    60.0  3500.0  40.36  5219175   \n",
              "\n",
              "       volume  \n",
              "0  7698283125  \n",
              "1  7698283125  "
            ],
            "text/html": [
              "\n",
              "  <div id=\"df-ddf482a9-49bc-4ae8-81fc-e6f4d6899049\">\n",
              "    <div class=\"colab-df-container\">\n",
              "      <div>\n",
              "<style scoped>\n",
              "    .dataframe tbody tr th:only-of-type {\n",
              "        vertical-align: middle;\n",
              "    }\n",
              "\n",
              "    .dataframe tbody tr th {\n",
              "        vertical-align: top;\n",
              "    }\n",
              "\n",
              "    .dataframe thead th {\n",
              "        text-align: right;\n",
              "    }\n",
              "</style>\n",
              "<table border=\"1\" class=\"dataframe\">\n",
              "  <thead>\n",
              "    <tr style=\"text-align: right;\">\n",
              "      <th></th>\n",
              "      <th>policy_id</th>\n",
              "      <th>policy_tenure</th>\n",
              "      <th>area_cluster</th>\n",
              "      <th>population_density</th>\n",
              "      <th>model</th>\n",
              "      <th>max_torque</th>\n",
              "      <th>max_power</th>\n",
              "      <th>is_adjustable_steering</th>\n",
              "      <th>displacement</th>\n",
              "      <th>steering_type</th>\n",
              "      <th>length</th>\n",
              "      <th>width</th>\n",
              "      <th>gross_weight</th>\n",
              "      <th>is_claim</th>\n",
              "      <th>torque</th>\n",
              "      <th>rpm</th>\n",
              "      <th>power</th>\n",
              "      <th>area</th>\n",
              "      <th>volume</th>\n",
              "    </tr>\n",
              "  </thead>\n",
              "  <tbody>\n",
              "    <tr>\n",
              "      <th>0</th>\n",
              "      <td>ID00001</td>\n",
              "      <td>0.515874</td>\n",
              "      <td>0</td>\n",
              "      <td>4990</td>\n",
              "      <td>0</td>\n",
              "      <td>5</td>\n",
              "      <td>2</td>\n",
              "      <td>0</td>\n",
              "      <td>796</td>\n",
              "      <td>2</td>\n",
              "      <td>3445</td>\n",
              "      <td>1515</td>\n",
              "      <td>1185</td>\n",
              "      <td>0</td>\n",
              "      <td>60.0</td>\n",
              "      <td>3500.0</td>\n",
              "      <td>40.36</td>\n",
              "      <td>5219175</td>\n",
              "      <td>7698283125</td>\n",
              "    </tr>\n",
              "    <tr>\n",
              "      <th>1</th>\n",
              "      <td>ID00002</td>\n",
              "      <td>0.672619</td>\n",
              "      <td>11</td>\n",
              "      <td>27003</td>\n",
              "      <td>0</td>\n",
              "      <td>5</td>\n",
              "      <td>2</td>\n",
              "      <td>0</td>\n",
              "      <td>796</td>\n",
              "      <td>2</td>\n",
              "      <td>3445</td>\n",
              "      <td>1515</td>\n",
              "      <td>1185</td>\n",
              "      <td>0</td>\n",
              "      <td>60.0</td>\n",
              "      <td>3500.0</td>\n",
              "      <td>40.36</td>\n",
              "      <td>5219175</td>\n",
              "      <td>7698283125</td>\n",
              "    </tr>\n",
              "  </tbody>\n",
              "</table>\n",
              "</div>\n",
              "      <button class=\"colab-df-convert\" onclick=\"convertToInteractive('df-ddf482a9-49bc-4ae8-81fc-e6f4d6899049')\"\n",
              "              title=\"Convert this dataframe to an interactive table.\"\n",
              "              style=\"display:none;\">\n",
              "        \n",
              "  <svg xmlns=\"http://www.w3.org/2000/svg\" height=\"24px\"viewBox=\"0 0 24 24\"\n",
              "       width=\"24px\">\n",
              "    <path d=\"M0 0h24v24H0V0z\" fill=\"none\"/>\n",
              "    <path d=\"M18.56 5.44l.94 2.06.94-2.06 2.06-.94-2.06-.94-.94-2.06-.94 2.06-2.06.94zm-11 1L8.5 8.5l.94-2.06 2.06-.94-2.06-.94L8.5 2.5l-.94 2.06-2.06.94zm10 10l.94 2.06.94-2.06 2.06-.94-2.06-.94-.94-2.06-.94 2.06-2.06.94z\"/><path d=\"M17.41 7.96l-1.37-1.37c-.4-.4-.92-.59-1.43-.59-.52 0-1.04.2-1.43.59L10.3 9.45l-7.72 7.72c-.78.78-.78 2.05 0 2.83L4 21.41c.39.39.9.59 1.41.59.51 0 1.02-.2 1.41-.59l7.78-7.78 2.81-2.81c.8-.78.8-2.07 0-2.86zM5.41 20L4 18.59l7.72-7.72 1.47 1.35L5.41 20z\"/>\n",
              "  </svg>\n",
              "      </button>\n",
              "      \n",
              "  <style>\n",
              "    .colab-df-container {\n",
              "      display:flex;\n",
              "      flex-wrap:wrap;\n",
              "      gap: 12px;\n",
              "    }\n",
              "\n",
              "    .colab-df-convert {\n",
              "      background-color: #E8F0FE;\n",
              "      border: none;\n",
              "      border-radius: 50%;\n",
              "      cursor: pointer;\n",
              "      display: none;\n",
              "      fill: #1967D2;\n",
              "      height: 32px;\n",
              "      padding: 0 0 0 0;\n",
              "      width: 32px;\n",
              "    }\n",
              "\n",
              "    .colab-df-convert:hover {\n",
              "      background-color: #E2EBFA;\n",
              "      box-shadow: 0px 1px 2px rgba(60, 64, 67, 0.3), 0px 1px 3px 1px rgba(60, 64, 67, 0.15);\n",
              "      fill: #174EA6;\n",
              "    }\n",
              "\n",
              "    [theme=dark] .colab-df-convert {\n",
              "      background-color: #3B4455;\n",
              "      fill: #D2E3FC;\n",
              "    }\n",
              "\n",
              "    [theme=dark] .colab-df-convert:hover {\n",
              "      background-color: #434B5C;\n",
              "      box-shadow: 0px 1px 3px 1px rgba(0, 0, 0, 0.15);\n",
              "      filter: drop-shadow(0px 1px 2px rgba(0, 0, 0, 0.3));\n",
              "      fill: #FFFFFF;\n",
              "    }\n",
              "  </style>\n",
              "\n",
              "      <script>\n",
              "        const buttonEl =\n",
              "          document.querySelector('#df-ddf482a9-49bc-4ae8-81fc-e6f4d6899049 button.colab-df-convert');\n",
              "        buttonEl.style.display =\n",
              "          google.colab.kernel.accessAllowed ? 'block' : 'none';\n",
              "\n",
              "        async function convertToInteractive(key) {\n",
              "          const element = document.querySelector('#df-ddf482a9-49bc-4ae8-81fc-e6f4d6899049');\n",
              "          const dataTable =\n",
              "            await google.colab.kernel.invokeFunction('convertToInteractive',\n",
              "                                                     [key], {});\n",
              "          if (!dataTable) return;\n",
              "\n",
              "          const docLinkHtml = 'Like what you see? Visit the ' +\n",
              "            '<a target=\"_blank\" href=https://colab.research.google.com/notebooks/data_table.ipynb>data table notebook</a>'\n",
              "            + ' to learn more about interactive tables.';\n",
              "          element.innerHTML = '';\n",
              "          dataTable['output_type'] = 'display_data';\n",
              "          await google.colab.output.renderOutput(dataTable, element);\n",
              "          const docLink = document.createElement('div');\n",
              "          docLink.innerHTML = docLinkHtml;\n",
              "          element.appendChild(docLink);\n",
              "        }\n",
              "      </script>\n",
              "    </div>\n",
              "  </div>\n",
              "  "
            ]
          },
          "metadata": {},
          "execution_count": 115
        }
      ]
    },
    {
      "cell_type": "code",
      "source": [
        "train.head(2)"
      ],
      "metadata": {
        "colab": {
          "base_uri": "https://localhost:8080/",
          "height": 176
        },
        "id": "ujQG8kWHl07b",
        "outputId": "558d905d-4a83-41f6-ff22-4aedfda64c4f"
      },
      "execution_count": null,
      "outputs": [
        {
          "output_type": "execute_result",
          "data": {
            "text/plain": [
              "  policy_id  policy_tenure  population_density  is_adjustable_steering  \\\n",
              "0   ID00001       0.515874                4990                       0   \n",
              "1   ID00002       0.672619               27003                       0   \n",
              "\n",
              "   displacement  length  width  gross_weight  is_claim  torque     rpm  power  \\\n",
              "0           796    3445   1515          1185         0    60.0  3500.0  40.36   \n",
              "1           796    3445   1515          1185         0    60.0  3500.0  40.36   \n",
              "\n",
              "      area      volume  area_cluster_1  area_cluster_2  area_cluster_3  \\\n",
              "0  5219175  7698283125               0               0               0   \n",
              "1  5219175  7698283125               0               0               0   \n",
              "\n",
              "   area_cluster_4  area_cluster_5  area_cluster_6  area_cluster_7  \\\n",
              "0               0               0               0               0   \n",
              "1               0               0               0               0   \n",
              "\n",
              "   area_cluster_8  area_cluster_9  area_cluster_10  area_cluster_11  \\\n",
              "0               0               0                0                0   \n",
              "1               0               0                0                1   \n",
              "\n",
              "   area_cluster_12  area_cluster_13  area_cluster_14  area_cluster_15  \\\n",
              "0                0                0                0                0   \n",
              "1                0                0                0                0   \n",
              "\n",
              "   area_cluster_16  area_cluster_17  area_cluster_18  area_cluster_19  \\\n",
              "0                0                0                0                0   \n",
              "1                0                0                0                0   \n",
              "\n",
              "   area_cluster_20  area_cluster_21  model_1  model_2  model_3  model_4  \\\n",
              "0                0                0        0        0        0        0   \n",
              "1                0                0        0        0        0        0   \n",
              "\n",
              "   model_5  model_6  model_7  model_8  model_9  model_10  max_torque_1  \\\n",
              "0        0        0        0        0        0         0             0   \n",
              "1        0        0        0        0        0         0             0   \n",
              "\n",
              "   max_torque_2  max_torque_3  max_torque_4  max_torque_5  max_torque_6  \\\n",
              "0             0             0             0             1             0   \n",
              "1             0             0             0             1             0   \n",
              "\n",
              "   max_torque_7  max_torque_8  max_power_1  max_power_2  max_power_3  \\\n",
              "0             0             0            0            1            0   \n",
              "1             0             0            0            1            0   \n",
              "\n",
              "   max_power_4  max_power_5  max_power_6  max_power_7  max_power_8  \\\n",
              "0            0            0            0            0            0   \n",
              "1            0            0            0            0            0   \n",
              "\n",
              "   steering_type_1  steering_type_2  \n",
              "0                0                1  \n",
              "1                0                1  "
            ],
            "text/html": [
              "\n",
              "  <div id=\"df-43a6e84d-105c-43e5-8225-80990713c5b1\">\n",
              "    <div class=\"colab-df-container\">\n",
              "      <div>\n",
              "<style scoped>\n",
              "    .dataframe tbody tr th:only-of-type {\n",
              "        vertical-align: middle;\n",
              "    }\n",
              "\n",
              "    .dataframe tbody tr th {\n",
              "        vertical-align: top;\n",
              "    }\n",
              "\n",
              "    .dataframe thead th {\n",
              "        text-align: right;\n",
              "    }\n",
              "</style>\n",
              "<table border=\"1\" class=\"dataframe\">\n",
              "  <thead>\n",
              "    <tr style=\"text-align: right;\">\n",
              "      <th></th>\n",
              "      <th>policy_id</th>\n",
              "      <th>policy_tenure</th>\n",
              "      <th>population_density</th>\n",
              "      <th>is_adjustable_steering</th>\n",
              "      <th>displacement</th>\n",
              "      <th>length</th>\n",
              "      <th>width</th>\n",
              "      <th>gross_weight</th>\n",
              "      <th>is_claim</th>\n",
              "      <th>torque</th>\n",
              "      <th>rpm</th>\n",
              "      <th>power</th>\n",
              "      <th>area</th>\n",
              "      <th>volume</th>\n",
              "      <th>area_cluster_1</th>\n",
              "      <th>area_cluster_2</th>\n",
              "      <th>area_cluster_3</th>\n",
              "      <th>area_cluster_4</th>\n",
              "      <th>area_cluster_5</th>\n",
              "      <th>area_cluster_6</th>\n",
              "      <th>area_cluster_7</th>\n",
              "      <th>area_cluster_8</th>\n",
              "      <th>area_cluster_9</th>\n",
              "      <th>area_cluster_10</th>\n",
              "      <th>area_cluster_11</th>\n",
              "      <th>area_cluster_12</th>\n",
              "      <th>area_cluster_13</th>\n",
              "      <th>area_cluster_14</th>\n",
              "      <th>area_cluster_15</th>\n",
              "      <th>area_cluster_16</th>\n",
              "      <th>area_cluster_17</th>\n",
              "      <th>area_cluster_18</th>\n",
              "      <th>area_cluster_19</th>\n",
              "      <th>area_cluster_20</th>\n",
              "      <th>area_cluster_21</th>\n",
              "      <th>model_1</th>\n",
              "      <th>model_2</th>\n",
              "      <th>model_3</th>\n",
              "      <th>model_4</th>\n",
              "      <th>model_5</th>\n",
              "      <th>model_6</th>\n",
              "      <th>model_7</th>\n",
              "      <th>model_8</th>\n",
              "      <th>model_9</th>\n",
              "      <th>model_10</th>\n",
              "      <th>max_torque_1</th>\n",
              "      <th>max_torque_2</th>\n",
              "      <th>max_torque_3</th>\n",
              "      <th>max_torque_4</th>\n",
              "      <th>max_torque_5</th>\n",
              "      <th>max_torque_6</th>\n",
              "      <th>max_torque_7</th>\n",
              "      <th>max_torque_8</th>\n",
              "      <th>max_power_1</th>\n",
              "      <th>max_power_2</th>\n",
              "      <th>max_power_3</th>\n",
              "      <th>max_power_4</th>\n",
              "      <th>max_power_5</th>\n",
              "      <th>max_power_6</th>\n",
              "      <th>max_power_7</th>\n",
              "      <th>max_power_8</th>\n",
              "      <th>steering_type_1</th>\n",
              "      <th>steering_type_2</th>\n",
              "    </tr>\n",
              "  </thead>\n",
              "  <tbody>\n",
              "    <tr>\n",
              "      <th>0</th>\n",
              "      <td>ID00001</td>\n",
              "      <td>0.515874</td>\n",
              "      <td>4990</td>\n",
              "      <td>0</td>\n",
              "      <td>796</td>\n",
              "      <td>3445</td>\n",
              "      <td>1515</td>\n",
              "      <td>1185</td>\n",
              "      <td>0</td>\n",
              "      <td>60.0</td>\n",
              "      <td>3500.0</td>\n",
              "      <td>40.36</td>\n",
              "      <td>5219175</td>\n",
              "      <td>7698283125</td>\n",
              "      <td>0</td>\n",
              "      <td>0</td>\n",
              "      <td>0</td>\n",
              "      <td>0</td>\n",
              "      <td>0</td>\n",
              "      <td>0</td>\n",
              "      <td>0</td>\n",
              "      <td>0</td>\n",
              "      <td>0</td>\n",
              "      <td>0</td>\n",
              "      <td>0</td>\n",
              "      <td>0</td>\n",
              "      <td>0</td>\n",
              "      <td>0</td>\n",
              "      <td>0</td>\n",
              "      <td>0</td>\n",
              "      <td>0</td>\n",
              "      <td>0</td>\n",
              "      <td>0</td>\n",
              "      <td>0</td>\n",
              "      <td>0</td>\n",
              "      <td>0</td>\n",
              "      <td>0</td>\n",
              "      <td>0</td>\n",
              "      <td>0</td>\n",
              "      <td>0</td>\n",
              "      <td>0</td>\n",
              "      <td>0</td>\n",
              "      <td>0</td>\n",
              "      <td>0</td>\n",
              "      <td>0</td>\n",
              "      <td>0</td>\n",
              "      <td>0</td>\n",
              "      <td>0</td>\n",
              "      <td>0</td>\n",
              "      <td>1</td>\n",
              "      <td>0</td>\n",
              "      <td>0</td>\n",
              "      <td>0</td>\n",
              "      <td>0</td>\n",
              "      <td>1</td>\n",
              "      <td>0</td>\n",
              "      <td>0</td>\n",
              "      <td>0</td>\n",
              "      <td>0</td>\n",
              "      <td>0</td>\n",
              "      <td>0</td>\n",
              "      <td>0</td>\n",
              "      <td>1</td>\n",
              "    </tr>\n",
              "    <tr>\n",
              "      <th>1</th>\n",
              "      <td>ID00002</td>\n",
              "      <td>0.672619</td>\n",
              "      <td>27003</td>\n",
              "      <td>0</td>\n",
              "      <td>796</td>\n",
              "      <td>3445</td>\n",
              "      <td>1515</td>\n",
              "      <td>1185</td>\n",
              "      <td>0</td>\n",
              "      <td>60.0</td>\n",
              "      <td>3500.0</td>\n",
              "      <td>40.36</td>\n",
              "      <td>5219175</td>\n",
              "      <td>7698283125</td>\n",
              "      <td>0</td>\n",
              "      <td>0</td>\n",
              "      <td>0</td>\n",
              "      <td>0</td>\n",
              "      <td>0</td>\n",
              "      <td>0</td>\n",
              "      <td>0</td>\n",
              "      <td>0</td>\n",
              "      <td>0</td>\n",
              "      <td>0</td>\n",
              "      <td>1</td>\n",
              "      <td>0</td>\n",
              "      <td>0</td>\n",
              "      <td>0</td>\n",
              "      <td>0</td>\n",
              "      <td>0</td>\n",
              "      <td>0</td>\n",
              "      <td>0</td>\n",
              "      <td>0</td>\n",
              "      <td>0</td>\n",
              "      <td>0</td>\n",
              "      <td>0</td>\n",
              "      <td>0</td>\n",
              "      <td>0</td>\n",
              "      <td>0</td>\n",
              "      <td>0</td>\n",
              "      <td>0</td>\n",
              "      <td>0</td>\n",
              "      <td>0</td>\n",
              "      <td>0</td>\n",
              "      <td>0</td>\n",
              "      <td>0</td>\n",
              "      <td>0</td>\n",
              "      <td>0</td>\n",
              "      <td>0</td>\n",
              "      <td>1</td>\n",
              "      <td>0</td>\n",
              "      <td>0</td>\n",
              "      <td>0</td>\n",
              "      <td>0</td>\n",
              "      <td>1</td>\n",
              "      <td>0</td>\n",
              "      <td>0</td>\n",
              "      <td>0</td>\n",
              "      <td>0</td>\n",
              "      <td>0</td>\n",
              "      <td>0</td>\n",
              "      <td>0</td>\n",
              "      <td>1</td>\n",
              "    </tr>\n",
              "  </tbody>\n",
              "</table>\n",
              "</div>\n",
              "      <button class=\"colab-df-convert\" onclick=\"convertToInteractive('df-43a6e84d-105c-43e5-8225-80990713c5b1')\"\n",
              "              title=\"Convert this dataframe to an interactive table.\"\n",
              "              style=\"display:none;\">\n",
              "        \n",
              "  <svg xmlns=\"http://www.w3.org/2000/svg\" height=\"24px\"viewBox=\"0 0 24 24\"\n",
              "       width=\"24px\">\n",
              "    <path d=\"M0 0h24v24H0V0z\" fill=\"none\"/>\n",
              "    <path d=\"M18.56 5.44l.94 2.06.94-2.06 2.06-.94-2.06-.94-.94-2.06-.94 2.06-2.06.94zm-11 1L8.5 8.5l.94-2.06 2.06-.94-2.06-.94L8.5 2.5l-.94 2.06-2.06.94zm10 10l.94 2.06.94-2.06 2.06-.94-2.06-.94-.94-2.06-.94 2.06-2.06.94z\"/><path d=\"M17.41 7.96l-1.37-1.37c-.4-.4-.92-.59-1.43-.59-.52 0-1.04.2-1.43.59L10.3 9.45l-7.72 7.72c-.78.78-.78 2.05 0 2.83L4 21.41c.39.39.9.59 1.41.59.51 0 1.02-.2 1.41-.59l7.78-7.78 2.81-2.81c.8-.78.8-2.07 0-2.86zM5.41 20L4 18.59l7.72-7.72 1.47 1.35L5.41 20z\"/>\n",
              "  </svg>\n",
              "      </button>\n",
              "      \n",
              "  <style>\n",
              "    .colab-df-container {\n",
              "      display:flex;\n",
              "      flex-wrap:wrap;\n",
              "      gap: 12px;\n",
              "    }\n",
              "\n",
              "    .colab-df-convert {\n",
              "      background-color: #E8F0FE;\n",
              "      border: none;\n",
              "      border-radius: 50%;\n",
              "      cursor: pointer;\n",
              "      display: none;\n",
              "      fill: #1967D2;\n",
              "      height: 32px;\n",
              "      padding: 0 0 0 0;\n",
              "      width: 32px;\n",
              "    }\n",
              "\n",
              "    .colab-df-convert:hover {\n",
              "      background-color: #E2EBFA;\n",
              "      box-shadow: 0px 1px 2px rgba(60, 64, 67, 0.3), 0px 1px 3px 1px rgba(60, 64, 67, 0.15);\n",
              "      fill: #174EA6;\n",
              "    }\n",
              "\n",
              "    [theme=dark] .colab-df-convert {\n",
              "      background-color: #3B4455;\n",
              "      fill: #D2E3FC;\n",
              "    }\n",
              "\n",
              "    [theme=dark] .colab-df-convert:hover {\n",
              "      background-color: #434B5C;\n",
              "      box-shadow: 0px 1px 3px 1px rgba(0, 0, 0, 0.15);\n",
              "      filter: drop-shadow(0px 1px 2px rgba(0, 0, 0, 0.3));\n",
              "      fill: #FFFFFF;\n",
              "    }\n",
              "  </style>\n",
              "\n",
              "      <script>\n",
              "        const buttonEl =\n",
              "          document.querySelector('#df-43a6e84d-105c-43e5-8225-80990713c5b1 button.colab-df-convert');\n",
              "        buttonEl.style.display =\n",
              "          google.colab.kernel.accessAllowed ? 'block' : 'none';\n",
              "\n",
              "        async function convertToInteractive(key) {\n",
              "          const element = document.querySelector('#df-43a6e84d-105c-43e5-8225-80990713c5b1');\n",
              "          const dataTable =\n",
              "            await google.colab.kernel.invokeFunction('convertToInteractive',\n",
              "                                                     [key], {});\n",
              "          if (!dataTable) return;\n",
              "\n",
              "          const docLinkHtml = 'Like what you see? Visit the ' +\n",
              "            '<a target=\"_blank\" href=https://colab.research.google.com/notebooks/data_table.ipynb>data table notebook</a>'\n",
              "            + ' to learn more about interactive tables.';\n",
              "          element.innerHTML = '';\n",
              "          dataTable['output_type'] = 'display_data';\n",
              "          await google.colab.output.renderOutput(dataTable, element);\n",
              "          const docLink = document.createElement('div');\n",
              "          docLink.innerHTML = docLinkHtml;\n",
              "          element.appendChild(docLink);\n",
              "        }\n",
              "      </script>\n",
              "    </div>\n",
              "  </div>\n",
              "  "
            ]
          },
          "metadata": {},
          "execution_count": 118
        }
      ]
    },
    {
      "cell_type": "code",
      "source": [
        "train.shape, test.shape"
      ],
      "metadata": {
        "colab": {
          "base_uri": "https://localhost:8080/"
        },
        "id": "W-8uCalVmLJT",
        "outputId": "f0da75b6-9980-4189-c8d9-cbc77b9b6b40"
      },
      "execution_count": null,
      "outputs": [
        {
          "output_type": "execute_result",
          "data": {
            "text/plain": [
              "((58592, 63), (39063, 62))"
            ]
          },
          "metadata": {},
          "execution_count": 119
        }
      ]
    },
    {
      "cell_type": "code",
      "source": [
        "# Rechecking the dtypes\n",
        "# train.dtypes, test.dtypes"
      ],
      "metadata": {
        "id": "gyo-LG5tbWXR"
      },
      "execution_count": null,
      "outputs": []
    },
    {
      "cell_type": "code",
      "source": [
        "# Manually Checking if df staructure is correct or not\n",
        "# train.drop(\"is_claim\", axis=1, inplace=True)\n",
        "# train_cols = list(train.columns)\n",
        "# test_cols  = list(test.columns)\n",
        "# cols = pd.DataFrame([train_cols,test_cols])\n",
        "# cols"
      ],
      "metadata": {
        "id": "tyw3uWTcZBzZ"
      },
      "execution_count": null,
      "outputs": []
    },
    {
      "cell_type": "code",
      "source": [],
      "metadata": {
        "id": "mKSDpEGrbQn0"
      },
      "execution_count": null,
      "outputs": []
    },
    {
      "cell_type": "code",
      "source": [],
      "metadata": {
        "id": "CofTKFylbW-I"
      },
      "execution_count": null,
      "outputs": []
    },
    {
      "cell_type": "code",
      "source": [
        "# All Classification Models Without SMOTEENN\n",
        "classifiers = [GaussianNB(), MultinomialNB(),\n",
        "               SGDClassifier(), KNeighborsClassifier(), DecisionTreeClassifier(),\n",
        "               RandomForestClassifier(), GradientBoostingClassifier(),\n",
        "               LGBMClassifier(), XGBClassifier()]\n",
        "\n",
        "score = []\n",
        "for clf in classifiers:\n",
        "  print(\"Solving Model:\", str(clf)[:-2], end = ' ')\n",
        "  start  = time.time()\n",
        "  model  = clf\n",
        "  model.fit(X_train_scaled, y_train)\n",
        "  val_f1 = np.mean(cross_val_score(model, X_train_scaled, y_train, \n",
        "                                  cv=5, scoring=\"f1\"))\n",
        "  end    = time.time()\n",
        "  print(\"Execution Time:\",int(end - start), \" sec\")\n",
        "  score.append([val_f1,str(clf)[:-2]])\n",
        "  \n",
        "score = sorted(score,reverse=True)\n",
        "for i in range(len(score)):\n",
        "  print(\"%26s %15s %6.3f\"  %(score[i][1],\"Validation F1:\",score[i][0]))"
      ],
      "metadata": {
        "id": "OJ7y1aEcnSaF"
      },
      "execution_count": null,
      "outputs": []
    },
    {
      "cell_type": "code",
      "source": [
        "# Final Model Without SMOTEENN\n",
        "clf_1 = RandomForestClassifier()\n",
        "clf_1.fit(X_train_scaled, y_train)\n",
        "\n",
        "sub_no_sm         = pd.read_csv('sample_submission.csv')\n",
        "final_pred_no_sm  = clf_1.predict(X_test_scaled)\n",
        "\n",
        "sub_no_sm['is_claim'] = final_pred_no_sm\n",
        "sub_no_sm.to_csv('my_submission_no_sm.csv', index=False)"
      ],
      "metadata": {
        "id": "8SQl0322nkGT"
      },
      "execution_count": null,
      "outputs": []
    },
    {
      "cell_type": "code",
      "source": [],
      "metadata": {
        "colab": {
          "base_uri": "https://localhost:8080/"
        },
        "id": "E8pX7XEu3eSV",
        "outputId": "de490093-7d30-4b33-e4b2-202c43356390"
      },
      "execution_count": null,
      "outputs": [
        {
          "output_type": "execute_result",
          "data": {
            "text/plain": [
              "1    55.34037\n",
              "0    44.65963\n",
              "Name: is_claim, dtype: float64"
            ]
          },
          "metadata": {},
          "execution_count": 92
        }
      ]
    },
    {
      "cell_type": "code",
      "source": [],
      "metadata": {
        "id": "JDAaaf1I3JkV"
      },
      "execution_count": null,
      "outputs": []
    },
    {
      "cell_type": "code",
      "source": [],
      "metadata": {
        "id": "JbaC65Mu3Jg1"
      },
      "execution_count": null,
      "outputs": []
    },
    {
      "cell_type": "code",
      "source": [],
      "metadata": {
        "id": "WLSGAmpC3Jdv"
      },
      "execution_count": null,
      "outputs": []
    },
    {
      "cell_type": "code",
      "source": [],
      "metadata": {
        "id": "xRhJafSR3JbC"
      },
      "execution_count": null,
      "outputs": []
    },
    {
      "cell_type": "code",
      "source": [],
      "metadata": {
        "id": "UMg51m6S3JYH"
      },
      "execution_count": null,
      "outputs": []
    },
    {
      "cell_type": "code",
      "source": [],
      "metadata": {
        "id": "i33CJkQS3JVA"
      },
      "execution_count": null,
      "outputs": []
    },
    {
      "cell_type": "code",
      "source": [],
      "metadata": {
        "id": "XwZHVnqM3JSF"
      },
      "execution_count": null,
      "outputs": []
    },
    {
      "cell_type": "code",
      "source": [],
      "metadata": {
        "id": "jlTSvCKM3JPc"
      },
      "execution_count": null,
      "outputs": []
    },
    {
      "cell_type": "code",
      "source": [],
      "metadata": {
        "id": "_9WYIZB23JMx"
      },
      "execution_count": null,
      "outputs": []
    },
    {
      "cell_type": "code",
      "source": [],
      "metadata": {
        "id": "Z8_A4xZm3JJo"
      },
      "execution_count": null,
      "outputs": []
    },
    {
      "cell_type": "code",
      "source": [],
      "metadata": {
        "id": "FcQyb4BD3JG_"
      },
      "execution_count": null,
      "outputs": []
    },
    {
      "cell_type": "code",
      "source": [],
      "metadata": {
        "id": "m_9hyl_R3JD5"
      },
      "execution_count": null,
      "outputs": []
    },
    {
      "cell_type": "code",
      "source": [],
      "metadata": {
        "id": "bHQhr4633JAy"
      },
      "execution_count": null,
      "outputs": []
    },
    {
      "cell_type": "code",
      "source": [],
      "metadata": {
        "id": "fFrcZdDe3I9s"
      },
      "execution_count": null,
      "outputs": []
    },
    {
      "cell_type": "code",
      "source": [
        "from sklearn.model_selection import train_test_split\n",
        "X_train, X_test, y_train, y_test = train_test_split(X, y, test_size=0.2, random_state=0)"
      ],
      "metadata": {
        "id": "RZ6Zh2Bs4m1G"
      },
      "execution_count": null,
      "outputs": []
    },
    {
      "cell_type": "code",
      "source": [],
      "metadata": {
        "id": "dQTDvRhzlD1g"
      },
      "execution_count": null,
      "outputs": []
    }
  ]
}